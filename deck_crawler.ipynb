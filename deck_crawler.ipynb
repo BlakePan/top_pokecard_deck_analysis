{
 "cells": [
  {
   "cell_type": "code",
   "execution_count": 1,
   "metadata": {},
   "outputs": [],
   "source": [
    "from selenium import webdriver\n",
    "from selenium.webdriver.common.keys import Keys\n",
    "from selenium.webdriver.common.by import By"
   ]
  },
  {
   "cell_type": "code",
   "execution_count": 2,
   "metadata": {},
   "outputs": [],
   "source": [
    "deck_code = \"cxxD8D-F0CeQo-8YxJ88\""
   ]
  },
  {
   "cell_type": "code",
   "execution_count": 3,
   "metadata": {},
   "outputs": [],
   "source": [
    "driver = webdriver.Chrome()\n",
    "driver.get(f\"https://www.pokemon-card.com/deck/confirm.html/deckID/{deck_code}/\")"
   ]
  },
  {
   "cell_type": "code",
   "execution_count": 4,
   "metadata": {},
   "outputs": [],
   "source": [
    "# Click リスト表示 \n",
    "driver.find_element(By.ID, \"deckView01\").click()"
   ]
  },
  {
   "cell_type": "code",
   "execution_count": 5,
   "metadata": {},
   "outputs": [],
   "source": [
    "# Get element\n",
    "elems = driver.find_elements(By.CLASS_NAME, \"Grid_item\")"
   ]
  },
  {
   "cell_type": "code",
   "execution_count": 6,
   "metadata": {},
   "outputs": [],
   "source": [
    "def extract_card(cards):\n",
    "    _dict = {}\n",
    "    \n",
    "    for c in cards[1:]:\n",
    "        c = c.split(\" \")\n",
    "        if '（' in c[0]:\n",
    "            loc = c[0].find('（')\n",
    "            c[0] = c[0][:loc]\n",
    "        _dict[c[0]] = c[1][:-1]\n",
    "    \n",
    "    return _dict"
   ]
  },
  {
   "cell_type": "code",
   "execution_count": 7,
   "metadata": {},
   "outputs": [
    {
     "name": "stdout",
     "output_type": "stream",
     "text": [
      "---\n",
      "pokemon_dict\n",
      "{'ルギアVSTAR': '3', 'ルギアV': '4', 'アーケオス': '4', 'ネオラントV': '1', 'クロバットV': '1', 'かがやくリザードン': '1', 'イベルタル': '1', 'ライコウ': '1', 'サンダー': '1', 'バケッチャ': '1'}\n",
      "tool_dict\n",
      "{'クイックボール': '4', 'ハイパーボール': '4', 'しんかのおこう': '3', 'ロストスイーパー': '1', 'こだわりベルト': '2', 'ツールジャマー': '1'}\n",
      "supporter_dict\n",
      "{'博士の研究': '4', 'マリィ': '2', 'ボスの指令': '2', 'セレナ': '2'}\n",
      "stage_dict\n",
      "{'崩れたスタジアム': '1'}\n",
      "energy_dict\n",
      "{'オーロラエネルギー': '4', 'パワフル無色エネルギー': '4', 'ダブルターボエネルギー': '2', 'Vガードエネルギー': '1', 'キャプチャーエネルギー': '1', 'ヒート炎エネルギー': '1', 'ハイド悪エネルギー': '1', 'スピード雷エネルギー': '2'}\n"
     ]
    }
   ],
   "source": [
    "pokemon_dict = {}  # {card_name: no.cards}\n",
    "tool_dict = {}\n",
    "supporter_dict = {}\n",
    "stage_dict = {}\n",
    "energy_dict = {}\n",
    "\n",
    "for e in elems:\n",
    "#     print(e.text)\n",
    "#     print(\"--\")\n",
    "    \n",
    "    if \"ポケモン\" in e.text:\n",
    "        cards = e.text.split('\\n')\n",
    "        for i in range(1, len(cards), 4):\n",
    "            pokemon_dict[cards[i]] = cards[i+3][:-1]\n",
    "    else:\n",
    "        cards = e.text.split('\\n')\n",
    "        res = extract_card(cards)\n",
    "        if \"グッズ\" in e.text:\n",
    "            tool_dict = res\n",
    "        elif \"サポート\" in e.text:\n",
    "            supporter_dict = res\n",
    "        elif \"スタジアム\" in e.text:\n",
    "            stage_dict = res\n",
    "        elif \"エネルギー\" in e.text:\n",
    "            energy_dict = res\n",
    "        \n",
    "        \n",
    "\n",
    "print(\"---\")\n",
    "print(\"pokemon_dict\"); print(pokemon_dict)\n",
    "print(\"tool_dict\"); print(tool_dict)\n",
    "print(\"supporter_dict\"); print(supporter_dict)\n",
    "print(\"stage_dict\"); print(stage_dict)\n",
    "print(\"energy_dict\"); print(energy_dict)"
   ]
  },
  {
   "cell_type": "code",
   "execution_count": 8,
   "metadata": {},
   "outputs": [],
   "source": [
    "# pokemon list\n"
   ]
  },
  {
   "cell_type": "code",
   "execution_count": 9,
   "metadata": {},
   "outputs": [],
   "source": [
    "driver.close()"
   ]
  },
  {
   "cell_type": "code",
   "execution_count": null,
   "metadata": {},
   "outputs": [],
   "source": []
  }
 ],
 "metadata": {
  "kernelspec": {
   "display_name": "sandbox_crawler",
   "language": "python",
   "name": "sandbox_crawler"
  },
  "language_info": {
   "codemirror_mode": {
    "name": "ipython",
    "version": 3
   },
   "file_extension": ".py",
   "mimetype": "text/x-python",
   "name": "python",
   "nbconvert_exporter": "python",
   "pygments_lexer": "ipython3",
   "version": "3.7.13"
  }
 },
 "nbformat": 4,
 "nbformat_minor": 2
}
