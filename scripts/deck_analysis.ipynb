{
 "cells": [
  {
   "cell_type": "code",
   "execution_count": 1,
   "metadata": {},
   "outputs": [],
   "source": [
    "# TODO: will change to use \"pip install -e .\" for developing the package\n",
    "import sys\n",
    "from pathlib import Path\n",
    "sys.path.append(str(Path.cwd().parent))"
   ]
  },
  {
   "cell_type": "code",
   "execution_count": 2,
   "id": "1488aa4f",
   "metadata": {},
   "outputs": [],
   "source": [
    "import time\n",
    "import re\n",
    "\n",
    "import pandas as pd\n",
    "from collections import OrderedDict\n",
    "import numpy as np\n",
    "from datetime import datetime, timedelta\n",
    "\n",
    "import json\n",
    "import os\n",
    "\n",
    "pd.set_option(\"display.max_columns\", None)\n",
    "pd.set_option(\"display.max_rows\", None)\n",
    "pd.set_option(\"display.max_colwidth\", None)"
   ]
  },
  {
   "cell_type": "code",
   "execution_count": 3,
   "id": "e4100e9d",
   "metadata": {},
   "outputs": [],
   "source": [
    "from deck_crawler.parse_deck import parse_events_from_official\n",
    "from deck_crawler.parse_deck import reassign_category\n",
    "from deck_crawler.utils.translator import translate_deck"
   ]
  },
  {
   "cell_type": "code",
   "execution_count": 4,
   "id": "058c32d0",
   "metadata": {},
   "outputs": [
    {
     "name": "stdout",
     "output_type": "stream",
     "text": [
      "[('2023年04月14日', '2023年04月27日'), ('2023年04月14日', '2023年04月20日'), ('2023年04月21日', '2023年04月27日')]\n"
     ]
    },
    {
     "data": {
      "text/plain": [
       "'\\n統計 and 資料分析\\n古劍豹ex\\n古鼎鹿ex\\n古簡蝸ex\\n\\n放逐_騎拉帝納VSTAR\\n\\n沙奈朵ex\\n沙奈朵_飄飄球\\n沙奈朵_蒼響\\n\\nLTB\\nLTB_勾魂眼_噴火龍\\nLTB_蓋歐卡\\nLTB_洗翠黏美龍VSTAR\\n\\n阿爾宙斯VSTAR\\n阿爾_騎拉帝納VSTAR\\n阿爾_阿羅拉六尾VSTAR\\n\\n夢幻VMAX\\n\\n密勒頓ex\\n\\n洛奇亞VSTAR\\n一擊_洛奇亞\\n純白_洛奇亞\\n\\n- 起源帕路奇亞VSTAR\\n\\n--\\n統計 only\\n\\n雷吉鐸拉戈VSTAR\\n\\n柱神\\n\\n飄香豚ex\\n\\n團結之翼\\n\\n\\n\\n'"
      ]
     },
     "execution_count": 4,
     "metadata": {},
     "output_type": "execute_result"
    }
   ],
   "source": [
    "# flags and parameters\n",
    "RUN_PARSE = False\n",
    "DEBUG_PARSE = False\n",
    "\n",
    "NUM_RESULT_PAGE = 3\n",
    "NUM_EVENT_PAGE = 1000\n",
    "NUM_DECK_PAGE = 2\n",
    "\n",
    "START_DATE = \"2023年04月14日\"  # include\n",
    "END_DATE = \"2023年04月27日\"  # include\n",
    "\n",
    "WEEKS = [(START_DATE, END_DATE)]\n",
    "current_date = START_DATE\n",
    "while current_date < END_DATE:\n",
    "    current_date_obj = datetime.strptime(current_date, '%Y年%m月%d日')\n",
    "    next_date_obj = current_date_obj + timedelta(days=6)\n",
    "    next_date = next_date_obj.strftime('%Y年%m月%d日')\n",
    "    if next_date > END_DATE:\n",
    "        next_date = END_DATE\n",
    "    WEEKS.append((current_date, next_date))\n",
    "\n",
    "    current_date_obj = next_date_obj + timedelta(days=1)\n",
    "    current_date = current_date_obj.strftime('%Y年%m月%d日')\n",
    "print(WEEKS)\n",
    "\n",
    "TARGET_CATEGORY = \"起源帕路奇亞VSTAR\"\n",
    "\n",
    "\"\"\"\n",
    "統計 and 資料分析\n",
    "古劍豹ex\n",
    "古鼎鹿ex\n",
    "古簡蝸ex\n",
    "\n",
    "放逐_騎拉帝納VSTAR\n",
    "\n",
    "沙奈朵ex\n",
    "沙奈朵_飄飄球\n",
    "沙奈朵_蒼響\n",
    "\n",
    "LTB\n",
    "LTB_勾魂眼_噴火龍\n",
    "LTB_蓋歐卡\n",
    "LTB_洗翠黏美龍VSTAR\n",
    "\n",
    "阿爾宙斯VSTAR\n",
    "阿爾_騎拉帝納VSTAR\n",
    "阿爾_阿羅拉六尾VSTAR\n",
    "\n",
    "夢幻VMAX\n",
    "\n",
    "密勒頓ex\n",
    "\n",
    "洛奇亞VSTAR\n",
    "一擊_洛奇亞\n",
    "純白_洛奇亞\n",
    "\n",
    "- 起源帕路奇亞VSTAR\n",
    "\n",
    "--\n",
    "統計 only\n",
    "\n",
    "雷吉鐸拉戈VSTAR\n",
    "\n",
    "柱神\n",
    "\n",
    "飄香豚ex\n",
    "\n",
    "團結之翼\n",
    "\n",
    "\n",
    "\n",
    "\"\"\""
   ]
  },
  {
   "cell_type": "code",
   "execution_count": 5,
   "metadata": {},
   "outputs": [],
   "source": [
    "# create some folders\n",
    "EXCEL_FOLDER = \"excel\"\n",
    "DB_FOLDER = \"deck_db\"\n",
    "folders = [EXCEL_FOLDER, DB_FOLDER]\n",
    "\n",
    "for folder in folders:\n",
    "    if not os.path.exists(folder):\n",
    "        os.makedirs(folder)\n",
    "\n",
    "if not os.path.exists(f\"{EXCEL_FOLDER}/{TARGET_CATEGORY}\"):\n",
    "    os.makedirs(f\"{EXCEL_FOLDER}/{TARGET_CATEGORY}\")"
   ]
  },
  {
   "cell_type": "code",
   "execution_count": 6,
   "id": "09d575e6",
   "metadata": {},
   "outputs": [
    {
     "name": "stdout",
     "output_type": "stream",
     "text": [
      "categories in previous result:\n",
      "dict_keys(['交錯切換機', 'LTB', 'LTB_勾魂眼_噴火龍', '光輝無極汰那', '古劍豹ex', '夢幻VMAX', '起源帕路奇亞VSTAR', '密勒頓ex', '密勒頓ex_other', '白馬蕾冠王VMAX', '達克萊伊VSTAR', 'LTB_蓋歐卡', 'LTB_快龍V', 'LTB_空之封印石_other', 'LTB_空之封印石_悪水超雷', 'LTB_洗翠黏美龍VSTAR', 'LTB_空之封印石_水超闘雷', 'LTB_空之封印石_水超雷', 'LTB_空之封印石_水超鋼闘雷', 'LTB_空之封印石_水超鋼雷', '魔幻假面喵ex', 'LTB_空之封印石_水草超闘雷', 'LTB_空之封印石_水超闘', 'LTB_空之封印石_悪水超', 'LTB_空之封印石_水超鋼', '黑馬蕾冠王VMAX', '連擊武道熊師VMAX', '阿羅拉六尾VSTAR', '酋雷姆VMAX', '雷吉艾勒奇VMAX', '飛翔皮卡丘VMAX', '密勒頓ex_電柱', '密勒頓ex_電柱_茸茸羊', '密勒頓ex_茸茸羊', 'Other_Lost', '洛托姆VSTAR', '阿爾宙斯VSTAR', '阿爾_白馬VMAX', '純阿爾VSTAR', '洛奇亞VSTAR', '連擊_洛奇亞', '阿爾_飛天皮VMAX', '阿爾_阿羅拉六尾VSTAR', '洗翠索羅亞克VSTAR', 'Other_騎拉帝納VSTAR', '阿爾_騎拉帝納VSTAR', '阿爾_鋁鋼龍VMAX', '雷吉鐸拉戈VSTAR', '阿爾_雷吉鐸拉戈VSTAR', '藏飽栗鼠VMAX', '烈空坐VMAX', '化石翼龍VSTAR', '起源帝牙盧卡VSTAR', '古簡蝸ex', '純白_洛奇亞', '一擊_洛奇亞', '古鼎鹿ex', '月石', '沙奈朵ex', '沙奈朵_飄飄球', '沙奈朵_蒼響', '超夢 V-UNION', '沙奈朵_蒼響_超夢V-UNION', '沙奈朵_超夢V-UNION', '放逐_騎拉帝納VSTAR', '音波龍ex', 'others', '團結之翼', '飄香豚ex', '柱神', '幻影索羅亞克', '火焰雞VMAX', '索羅風速狗'])\n",
      "\n",
      "\n",
      "number of decks in the previous result:\n",
      "2693\n"
     ]
    }
   ],
   "source": [
    "# loading db\n",
    "decks = {}\n",
    "store_file_name = \"deck_db/test.json\"\n",
    "if not DEBUG_PARSE:\n",
    "    store_file_name = \"deck_db/store.json\"\n",
    "    if os.path.exists(store_file_name):\n",
    "        with open(store_file_name, \"r\") as f:\n",
    "            decks = json.load(f)\n",
    "\n",
    "decks = reassign_category(decks)\n",
    "print(\"categories in previous result:\")\n",
    "print(decks.keys())\n",
    "\n",
    "store_code_list = []\n",
    "for category in decks.keys():\n",
    "    for d in decks[category]:\n",
    "        store_code_list.append(d[\"deck_code\"])\n",
    "print(\"\\n\")\n",
    "print(\"number of decks in the previous result:\")\n",
    "print(len(store_code_list))"
   ]
  },
  {
   "cell_type": "code",
   "execution_count": 7,
   "id": "c2f9b910",
   "metadata": {},
   "outputs": [
    {
     "name": "stdout",
     "output_type": "stream",
     "text": [
      "\n",
      "7.414817810058594e-05 seconds\n"
     ]
    }
   ],
   "source": [
    "# parse events\n",
    "t1 = time.time()\n",
    "if RUN_PARSE or DEBUG_PARSE:\n",
    "    parse_events_from_official(\n",
    "        decks,\n",
    "        store_code_list,\n",
    "        result_page_limit=NUM_RESULT_PAGE,\n",
    "        event_page_limit=NUM_EVENT_PAGE,\n",
    "        deck_page_limit=NUM_DECK_PAGE,\n",
    "    )\n",
    "t2 = time.time()\n",
    "\n",
    "print()\n",
    "print(f\"{t2 - t1} seconds\")"
   ]
  },
  {
   "cell_type": "code",
   "execution_count": 8,
   "metadata": {},
   "outputs": [],
   "source": [
    "# save to json\n",
    "with open(store_file_name, \"w\") as f:\n",
    "    json.dump(decks, f, ensure_ascii=False, indent=4)"
   ]
  },
  {
   "cell_type": "code",
   "execution_count": 9,
   "id": "a2bcd783",
   "metadata": {},
   "outputs": [],
   "source": [
    "# # show all categories we have\n",
    "# total = 0\n",
    "# for k in decks.keys():\n",
    "#     print(f\"[{k}]:\\n{len(decks[k])}\\n\")\n",
    "#     total += len(decks[k])\n",
    "\n",
    "# print(total)"
   ]
  },
  {
   "cell_type": "code",
   "execution_count": 10,
   "id": "1bbffcef",
   "metadata": {},
   "outputs": [],
   "source": [
    "# show categories we have in the period\n",
    "real_start_date, real_end_date = \"3000年01月01日\", \"1000年01月01日\"\n",
    "number_target_deck = 0\n",
    "deck_cnt_list = []\n",
    "for k in decks.keys():\n",
    "    deck_cnt = 0\n",
    "    for deck in decks[k]:\n",
    "        date_exclude_jp_str = deck[\"date\"][:-3]\n",
    "        if date_exclude_jp_str >= START_DATE and date_exclude_jp_str <= END_DATE:\n",
    "            deck_cnt += 1\n",
    "\n",
    "            if date_exclude_jp_str < real_start_date:\n",
    "                real_start_date = date_exclude_jp_str\n",
    "\n",
    "            if date_exclude_jp_str > real_end_date:\n",
    "                real_end_date = date_exclude_jp_str\n",
    "\n",
    "    # print(f\"{k}\\t{deck_cnt}\\n\")\n",
    "    deck_cnt_list.append((deck_cnt, k))\n",
    "    if k == TARGET_CATEGORY:\n",
    "        number_target_deck = deck_cnt"
   ]
  },
  {
   "cell_type": "code",
   "execution_count": 11,
   "metadata": {},
   "outputs": [],
   "source": [
    "# # Show all categories with counter\n",
    "# deck_cnt_list = sorted(deck_cnt_list, reverse=True)\n",
    "# for num_deck, deck_name in deck_cnt_list:\n",
    "#     if num_deck > 0:\n",
    "#         print(f\"{deck_name}\\t{num_deck}\\n\")"
   ]
  },
  {
   "cell_type": "code",
   "execution_count": 12,
   "id": "70e9aa60",
   "metadata": {},
   "outputs": [
    {
     "name": "stdout",
     "output_type": "stream",
     "text": [
      "53\n"
     ]
    }
   ],
   "source": [
    "# Show number of decks for the target category\n",
    "print(number_target_deck)\n",
    "if number_target_deck <= 0:\n",
    "    raise Exception(f\"No decks for {TARGET_CATEGORY} during {START_DATE} to {END_DATE}\")"
   ]
  },
  {
   "cell_type": "code",
   "execution_count": 13,
   "id": "584920ef",
   "metadata": {},
   "outputs": [],
   "source": [
    "def fill_na(col):\n",
    "    if col.name not in [\"date\", \"prefecture\"]:\n",
    "        return col.fillna(0)\n",
    "    else:\n",
    "        return col"
   ]
  },
  {
   "cell_type": "code",
   "execution_count": 14,
   "id": "64508eff",
   "metadata": {},
   "outputs": [],
   "source": [
    "# Analysis\n",
    "df_dict = {}\n",
    "common_cols = [\"date\", \"prefecture\", \"num_players\", \"rank\"]\n",
    "int_cols = [\"num_players\", \"rank\"]\n",
    "\n",
    "for card_type in [\"pokemons\", \"tools\", \"supporters\", \"stadiums\", \"energies\"]:\n",
    "    # df init\n",
    "    df = pd.DataFrame()\n",
    "    for _, deck in enumerate(decks[TARGET_CATEGORY]):\n",
    "        deck = translate_deck(deck)\n",
    "\n",
    "        deck_code = deck[\"deck_code\"]  # row id\n",
    "        if deck[\"date\"] < START_DATE or deck[\"date\"] > END_DATE:\n",
    "            continue\n",
    "        \n",
    "        pokecard = OrderedDict()\n",
    "        for col in common_cols:\n",
    "            pokecard[col] = deck.get(col, \"\")\n",
    "        pokecard.update(deck[card_type])\n",
    "\n",
    "        if _ == 0:\n",
    "            df = pd.DataFrame(pokecard, index=[deck_code])\n",
    "        else:\n",
    "            df = pd.concat([df, pd.DataFrame(pokecard, index=[deck_code])])\n",
    "    df = df.apply(fill_na)\n",
    "\n",
    "    # sort rows by date\n",
    "    df = df.sort_values(by=[\"date\"], ascending=False)\n",
    "\n",
    "    # select cols for analysis\n",
    "    col_list = list(df)\n",
    "    for c in common_cols:\n",
    "        col_list.remove(c)\n",
    "\n",
    "    # Calculate for each week\n",
    "    for week_id, week in enumerate(WEEKS):\n",
    "        week_name = f\"week_{week_id}\" if week_id > 0 else \"all\"\n",
    "        week_start, week_end = week\n",
    "        df_week = df.loc[(df['date'] >= week_start) & (df['date'] <= week_end)]\n",
    "\n",
    "        # calculate\n",
    "        num_decks = df_week.shape[0]\n",
    "        num_used = df_week[col_list].sum(axis=\"rows\", numeric_only=True)\n",
    "        num_picked = df_week[col_list].astype(bool).sum(axis=\"rows\")\n",
    "        avg_num_used = num_used / num_picked\n",
    "        pick_rate = num_picked / num_decks\n",
    "\n",
    "        # insert rows in df\n",
    "        avg_idx = f\"avg_num_used_{week_name}\\n{week[0]}\\n{week[1]}\"\n",
    "        pick_idx = f\"pick_rate_{week_name}\\n{week[0]}\\n{week[1]}\"\n",
    "        df.loc[avg_idx] = {}\n",
    "        df.loc[pick_idx] = {}\n",
    "        for col in col_list:\n",
    "            df.loc[avg_idx, col] = avg_num_used[col] if not np.isnan(avg_num_used[col]) else 0\n",
    "            df.loc[pick_idx, col] = pick_rate[col] if not np.isnan(pick_rate[col]) else 0\n",
    "\n",
    "    # reorder index in df, move 'avg_num_used' and 'pick_rate' to top\n",
    "    num_rows = df.shape[0]\n",
    "    num_weeks = len(WEEKS)\n",
    "    target_rows = [num_rows - i for i in range(num_weeks*2-1, 0, -2)]\n",
    "    target_rows += [num_rows - i for i in range(num_weeks*2, 1, -2)]\n",
    "    idx = target_rows + [i for i in range(len(df)) if i not in target_rows]\n",
    "    df = df.iloc[idx]\n",
    "\n",
    "    # sort by card name which is header of df\n",
    "    sorted_cols = np.argsort(df.iloc[0, 4:])\n",
    "    sorted_cols = list(sorted_cols.to_dict().keys())\n",
    "    df = df[common_cols + sorted_cols]\n",
    "\n",
    "    # sort cols by pick rate\n",
    "    df = df.sort_values(f\"pick_rate_all\\n{WEEKS[0][0]}\\n{WEEKS[0][1]}\", axis=1, ascending=False)\n",
    "    \n",
    "    # reorder header, move common cols to front\n",
    "    col_list = list(df)\n",
    "    for c in common_cols:\n",
    "        col_list.remove(c)\n",
    "    df = df[common_cols + col_list]\n",
    "\n",
    "    # format data type\n",
    "    for col in int_cols:\n",
    "        df[col] = df[col].astype(\"Int64\")\n",
    "\n",
    "    # store\n",
    "    df_dict[card_type] = df"
   ]
  },
  {
   "cell_type": "code",
   "execution_count": 15,
   "id": "049ca0af",
   "metadata": {},
   "outputs": [
    {
     "name": "stdout",
     "output_type": "stream",
     "text": [
      "涼脊龍:\n",
      "- 涼脊龍\n",
      "セビエ\n",
      "SV2P 024/071\n",
      "- 涼脊龍\n",
      "セビエ\n",
      "SV2P 025/071\n",
      "======\n"
     ]
    }
   ],
   "source": [
    "# Detect repeated card names\n",
    "from collections import Counter\n",
    "card_full_names = df_dict[\"pokemons\"].columns[4:].tolist()\n",
    "card_ch_names = [full_name.split(\"\\n\")[0] for full_name in card_full_names]\n",
    "card_name_dict = {ch_name: [] for ch_name in card_ch_names}\n",
    "for full_name in card_full_names:\n",
    "    ch_name = full_name.split(\"\\n\")[0]\n",
    "    card_name_dict[ch_name].append(full_name)\n",
    "\n",
    "for ch_name, full_name_list in card_name_dict.items():\n",
    "    if len(full_name_list) > 1:\n",
    "        print(ch_name + \":\")\n",
    "        for full_name in full_name_list:\n",
    "            print(\"- \" + full_name)\n",
    "        print('======')"
   ]
  },
  {
   "cell_type": "code",
   "execution_count": 16,
   "id": "4d1bd4ef",
   "metadata": {},
   "outputs": [],
   "source": [
    "# Detect if card name is not translated yet\n",
    "import unicodedata\n",
    "\n",
    "# Define a function to check if a string is combination of Chinese, English and Number\n",
    "def is_ch_en_num(string):\n",
    "    for char in string:\n",
    "        # Check if the character is not in the Chinese, English and Number\n",
    "        uni_data = unicodedata.name(char, '').split(\" \")\n",
    "        if 'CJK' not in uni_data and \\\n",
    "            'LATIN' not in uni_data and \\\n",
    "            'DIGIT' not in uni_data and \\\n",
    "            uni_data[-1] not in [\"DOT\", \"SPACE\", \"STOP\"]:\n",
    "            return False\n",
    "    return True\n",
    "\n",
    "for card_type in [\"pokemons\", \"tools\", \"supporters\", \"stadiums\", \"energies\"]:\n",
    "    card_full_names = df_dict[card_type].columns[4:].tolist()\n",
    "    for name in card_full_names:\n",
    "        card_ch_names = name.split(\"\\n\")[0]\n",
    "        if not is_ch_en_num(card_ch_names): print(name)"
   ]
  },
  {
   "cell_type": "code",
   "execution_count": 17,
   "metadata": {},
   "outputs": [
    {
     "name": "stderr",
     "output_type": "stream",
     "text": [
      "/Users/blake/anaconda3/envs/deck/lib/python3.10/site-packages/xlsxwriter/workbook.py:339: UserWarning: Calling close() on already closed file.\n",
      "  warn(\"Calling close() on already closed file.\")\n"
     ]
    }
   ],
   "source": [
    "# excel writer\n",
    "writer = pd.ExcelWriter(\n",
    "    f\"{EXCEL_FOLDER}/{TARGET_CATEGORY}/{TARGET_CATEGORY}-{START_DATE}-{END_DATE}.xlsx\",\n",
    "    engine=\"xlsxwriter\",\n",
    "    mode=\"w\",\n",
    ")\n",
    "workbook = writer.book\n",
    "\n",
    "for sheet_id, sheet_name in enumerate(\n",
    "    [\"pokemons\", \"tools\", \"supporters\", \"stadiums\", \"energies\"]\n",
    "):\n",
    "    df_dict[sheet_name].to_excel(writer, sheet_name=sheet_name, float_format=\"%.3f\")\n",
    "\n",
    "    # Get the xlsxwriter workbook and worksheet objects\n",
    "    worksheet = writer.sheets[sheet_name]\n",
    "\n",
    "    # Make deck_link become a hyperlink\n",
    "    for i, deck_id in enumerate(df_dict[sheet_name].index):\n",
    "        if \"avg_num_used\" in deck_id or \"pick_rate\" in deck_id:\n",
    "            continue\n",
    "\n",
    "        # Calculate the row number\n",
    "        row = i + 2\n",
    "\n",
    "        # Write the hyperlink to the cell\n",
    "        worksheet.write_url(\n",
    "            f\"A{row}\",\n",
    "            f\"https://www.pokemon-card.com/deck/confirm.html/deckID/{deck_id}\",\n",
    "            string=f\"{deck_id}\",\n",
    "        )\n",
    "\n",
    "    # formatting\n",
    "    header_format = workbook.add_format(\n",
    "        {\"bold\": True, \"text_wrap\": True, \"valign\": \"top\"}\n",
    "    )\n",
    "    header_format.set_bottom(2)\n",
    "    for col_num, value in enumerate(df_dict[sheet_name].columns.values):\n",
    "        worksheet.write(0, col_num + 1, value, header_format)\n",
    "\n",
    "    format_bold_bottom = workbook.add_format()\n",
    "    format_bold_bottom.set_bottom(2)\n",
    "    rows_for_bold = [0 + len(WEEKS), 0 + len(WEEKS)*2]\n",
    "    for row in rows_for_bold:\n",
    "        worksheet.set_row(row, None, format_bold_bottom)\n",
    "    worksheet.autofit()\n",
    "\n",
    "workbook.close()\n",
    "writer.save()"
   ]
  },
  {
   "cell_type": "code",
   "execution_count": 18,
   "id": "59c10c9f",
   "metadata": {},
   "outputs": [
    {
     "name": "stdout",
     "output_type": "stream",
     "text": [
      "16\n",
      "2023年04月25日(火)\t12/64\thttps://www.pokemon-card.com/deck/confirm.html/deckID/48x48a-9gKzSa-8cDx84\n",
      "2023年04月23日(日)\t5/64\thttps://www.pokemon-card.com/deck/confirm.html/deckID/F5Vkkk-YRO0Qt-fFkvV5\n",
      "2023年04月23日(日)\t5/64\thttps://www.pokemon-card.com/deck/confirm.html/deckID/5F5kdk-p4NnVr-fkFFdf\n",
      "2023年04月23日(日)\t4/64\thttps://www.pokemon-card.com/deck/confirm.html/deckID/c8xc48-FiX6uN-GacDD4\n",
      "2023年04月22日(土)\t9/48\thttps://www.pokemon-card.com/deck/confirm.html/deckID/Dx8x88-Qx7FYR-488x8c\n",
      "2023年04月20日(木)\t5/70\thttps://www.pokemon-card.com/deck/confirm.html/deckID/HHigQL-jBAyH4-gNLngn\n",
      "2023年04月17日(月)\t6/32\thttps://www.pokemon-card.com/deck/confirm.html/deckID/fFFk5F-wFAvDR-fbdVFV\n",
      "2023年04月16日(日)\t2/32\thttps://www.pokemon-card.com/deck/confirm.html/deckID/Vkkffk-BqjoNF-5f5vdF\n",
      "2023年04月16日(日)\t5/32\thttps://www.pokemon-card.com/deck/confirm.html/deckID/nLnnQQ-SkQ495-HNHggH\n",
      "2023年04月16日(日)\t11/48\thttps://www.pokemon-card.com/deck/confirm.html/deckID/XEMp22-po8KnV-XRpMyy\n",
      "2023年04月15日(土)\t7/64\thttps://www.pokemon-card.com/deck/confirm.html/deckID/V1fbFk-kpSPqw-5FV5kV\n",
      "2023年04月11日(火)\t8/48\thttps://www.pokemon-card.com/deck/confirm.html/deckID/S3pMXy-RNwu8j-Mp223M\n",
      "2023年04月09日(日)\t7/48\thttps://www.pokemon-card.com/deck/confirm.html/deckID/2RpUXM-hLgiYr-y22RpM\n",
      "2023年04月09日(日)\t12/48\thttps://www.pokemon-card.com/deck/confirm.html/deckID/acxacJ-7moEOF-DYD884\n",
      "2023年04月09日(日)\t1/32\thttps://www.pokemon-card.com/deck/confirm.html/deckID/SyXU2U-Gpr0NP-Sp2Mpp\n",
      "2023年04月09日(日)\t7/32\thttps://www.pokemon-card.com/deck/confirm.html/deckID/yppyXy-h3iQIq-22USUy\n"
     ]
    }
   ],
   "source": [
    "# Show decks have no category\n",
    "other_decks = decks[\"others\"]\n",
    "other_decks = sorted(other_decks, key=lambda deck: deck[\"date\"], reverse=True)\n",
    "print(len(other_decks))\n",
    "for d in other_decks:\n",
    "    date = d[\"date\"]\n",
    "    link = d[\"deck_link\"]\n",
    "    rank = d[\"rank\"]\n",
    "    num_p = d[\"num_players\"]\n",
    "    print(f\"{date}\\t{rank}/{num_p}\\t{link}\")"
   ]
  },
  {
   "cell_type": "code",
   "execution_count": 19,
   "id": "1fc4998f",
   "metadata": {},
   "outputs": [],
   "source": [
    "#!cp -r ~/Projects/top_pokecard_deck_analysis/scripts/excel/*  ~/Google\\ Drive/我的雲端硬碟/deck_analysis/excel/"
   ]
  },
  {
   "cell_type": "code",
   "execution_count": 20,
   "id": "1d8b97ef",
   "metadata": {},
   "outputs": [
    {
     "name": "stdout",
     "output_type": "stream",
     "text": [
      "/Users/blake/Google Drive/我的雲端硬碟/deck_analysis/excel/起源帕路奇亞VSTAR/起源帕路奇亞VSTAR-2023年04月14日-2023年04月27日.xlsx\n",
      "/Users/blake/Google Drive/我的雲端硬碟/deck_analysis/excel/起源帕路奇亞VSTAR/起源帕路奇亞VSTAR-2023年04月14日-2023年04月20日.xlsx\n"
     ]
    }
   ],
   "source": [
    "# Sync files to google drive\n",
    "import shutil\n",
    "\n",
    "# Define source and destination directories\n",
    "src_dir = f'/Users/blake/Projects/top_pokecard_deck_analysis/scripts/excel/{TARGET_CATEGORY}'\n",
    "dst_dir = f'/Users/blake/Google Drive/我的雲端硬碟/deck_analysis/excel/{TARGET_CATEGORY}'\n",
    "\n",
    "# Use os.listdir() to get a list of all files in the source directory\n",
    "files = os.listdir(src_dir)\n",
    "\n",
    "# if dst_dir not exists, create one\n",
    "if not os.path.exists(dst_dir):\n",
    "    os.makedirs(dst_dir)\n",
    "\n",
    "# Use a for loop to copy each file to the destination directory\n",
    "for file in files:\n",
    "    # Define the full path of the source file\n",
    "    src_file = os.path.join(src_dir, file)\n",
    "    # Define the full path of the destination file\n",
    "    dst_file = os.path.join(dst_dir, file)\n",
    "    # Use shutil.copy() to copy the source file to the destination directory\n",
    "    ret = shutil.copy(src_file, dst_file)\n",
    "\n",
    "    print(ret)"
   ]
  },
  {
   "cell_type": "code",
   "execution_count": null,
   "id": "25fcd055",
   "metadata": {},
   "outputs": [],
   "source": []
  }
 ],
 "metadata": {
  "kernelspec": {
   "display_name": "sandbox_crawler",
   "language": "python",
   "name": "python3"
  },
  "language_info": {
   "codemirror_mode": {
    "name": "ipython",
    "version": 3
   },
   "file_extension": ".py",
   "mimetype": "text/x-python",
   "name": "python",
   "nbconvert_exporter": "python",
   "pygments_lexer": "ipython3",
   "version": "3.10.10"
  },
  "vscode": {
   "interpreter": {
    "hash": "899fdb887c15f58e5b84bccb68769ab10d53fcfb074c953174405d562a0dfcf8"
   }
  }
 },
 "nbformat": 4,
 "nbformat_minor": 5
}
