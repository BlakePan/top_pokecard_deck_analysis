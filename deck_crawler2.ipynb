{
 "cells": [
  {
   "cell_type": "code",
   "execution_count": null,
   "id": "42ae1852",
   "metadata": {},
   "outputs": [],
   "source": [
    "from parse_deck import parse_event_to_deck"
   ]
  },
  {
   "cell_type": "code",
   "execution_count": null,
   "id": "e7011664",
   "metadata": {},
   "outputs": [],
   "source": [
    "from selenium import webdriver\n",
    "from selenium.webdriver.common.keys import Keys\n",
    "from selenium.webdriver.common.by import By\n",
    "from selenium.webdriver.support.ui import WebDriverWait\n",
    "from selenium.webdriver.support import expected_conditions as EC\n",
    "from selenium.webdriver.chrome.options import Options\n",
    "\n",
    "import time\n",
    "import re\n",
    "from tqdm import tqdm\n",
    "\n",
    "chrome_options = Options()\n",
    "chrome_options.add_argument(\"--headless\")\n",
    "chrome_options.add_argument(\"--start-maximized\")"
   ]
  },
  {
   "cell_type": "code",
   "execution_count": null,
   "id": "ed5f914c",
   "metadata": {},
   "outputs": [],
   "source": [
    "def wait_loading_circle(timeout: int = 20):\n",
    "    WebDriverWait(driver, 20).until(EC.invisibility_of_element_located((By.XPATH, \"//div[@class='sk-circle-container']\")))\n",
    "    "
   ]
  },
  {
   "cell_type": "code",
   "execution_count": null,
   "id": "e8d311b1",
   "metadata": {},
   "outputs": [],
   "source": [
    "# parse CL event links from official website\n",
    "url = \"https://players.pokemon-card.com/event/result/list\"\n",
    "driver = webdriver.Chrome(options=chrome_options)  # options=chrome_options\n",
    "driver.implicitly_wait(10) # seconds\n",
    "driver.get(url)\n",
    "\n",
    "no_page_crawl = 2\n",
    "cl_events = []\n",
    "\n",
    "# decks = {\n",
    "#     deck category 1: [\n",
    "#         {\n",
    "#             deck_link: \"\",\n",
    "#             deck_code: \"\",\n",
    "#             pokemons: {},\n",
    "#             tools: {},\n",
    "#             supporters: {},\n",
    "#             stages: {},\n",
    "#             energies: {},\n",
    "#             rank: 1,\n",
    "#             num_people: 32,\n",
    "#             date: datetime\n",
    "#         }, ...\n",
    "#     ],\n",
    "#     deck category 2:...\n",
    "# }\n",
    "all_categories = [\"ルギアVSTAR\", \"ミュウVMAX\", \"ジュラルドンVMAX\", \"ゾロア\", \"others\"]\n",
    "decks = {}\n",
    "\n",
    "for _ in range(no_page_crawl):\n",
    "    events = driver.find_elements(By.CLASS_NAME, \"eventListItem\")\n",
    "    for event in tqdm(events):\n",
    "        title = event.find_element(By.CLASS_NAME, \"title\")\n",
    "        if \"シティリーグ\" in title.text:\n",
    "            num_people_str = event.find_element(By.CLASS_NAME, \"capacity\").text\n",
    "            num_people = re.findall(r'\\d+', num_people_str)\n",
    "            num_people = int(num_people[0]) if len(num_people) == 1 else None\n",
    "            event_link = event.get_attribute(\"href\")\n",
    "            parse_event_to_deck(event_link, num_people, decks, all_categories)\n",
    "\n",
    "    # nevigate to the next page\n",
    "    driver.find_element(By.CLASS_NAME, \"btn.next\").click()\n",
    "    wait_loading_circle()\n",
    "\n",
    "driver.close()"
   ]
  },
  {
   "cell_type": "code",
   "execution_count": null,
   "id": "a89accc2",
   "metadata": {},
   "outputs": [],
   "source": [
    "# decks[\"ルギアVSTAR\"] \n",
    "len(decks)"
   ]
  },
  {
   "cell_type": "code",
   "execution_count": null,
   "id": "9239bb99",
   "metadata": {},
   "outputs": [],
   "source": [
    "deck_name = []\n",
    "for d in decks[\"others\"]:\n",
    "    lead = list(d[\"pokemons\"].keys())[0]\n",
    "    if lead not in deck_name:\n",
    "        deck_name.append(lead)\n",
    "        \n",
    "print(deck_name)\n"
   ]
  },
  {
   "cell_type": "code",
   "execution_count": null,
   "id": "4c265b12",
   "metadata": {},
   "outputs": [],
   "source": [
    "for d in decks[\"others\"]:\n",
    "    lead = list(d[\"pokemons\"].keys())[0]\n",
    "    if lead == \"ゾロア\":\n",
    "        print(d)\n",
    "        print(d[\"deck_link\"])\n",
    "        print(\"\\n---\\n\")"
   ]
  },
  {
   "cell_type": "code",
   "execution_count": null,
   "id": "6d24c8df",
   "metadata": {},
   "outputs": [],
   "source": [
    "import pandas as pd\n",
    "from collections import OrderedDict\n",
    "\n",
    "target_category = \"ルギアVSTAR\"\n",
    "df = pd.DataFrame()\n",
    "# df_tool = pd.DataFrame()\n",
    "# df_supporter = pd.DataFrame()\n",
    "# df_stage = pd.DataFrame()\n",
    "# df_energy = pd.DataFrame()\n",
    "\n",
    "for _, deck in enumerate(decks[target_category]):\n",
    "    deck_code = deck[\"deck_code\"]  # row id\n",
    "    pokemons = OrderedDict()\n",
    "    pokemons[\"date\"] = deck[\"date\"]\n",
    "    pokemons[\"num_people\"] = deck[\"num_people\"]\n",
    "    pokemons[\"rank\"] = deck[\"rank\"]\n",
    "    pokemons.update(deck[\"pokemons\"])\n",
    "    \n",
    "    \n",
    "    if _ == 0:\n",
    "        df = pd.DataFrame(pokemons, index=[deck_code])\n",
    "    else:\n",
    "        df.loc[deck_code] = pokemons\n",
    "\n",
    "df = df.fillna(0)"
   ]
  },
  {
   "cell_type": "code",
   "execution_count": null,
   "id": "92ba760a",
   "metadata": {},
   "outputs": [],
   "source": [
    "df"
   ]
  },
  {
   "cell_type": "code",
   "execution_count": null,
   "id": "25a8c520",
   "metadata": {},
   "outputs": [],
   "source": [
    "col_list = list(df)\n",
    "col_list.remove(\"date\")\n",
    "col_list.remove(\"num_people\")\n",
    "col_list.remove(\"rank\")\n",
    "\n",
    "num_decks = df.shape[0]\n",
    "print(num_decks)\n",
    "\n",
    "num_used = df[col_list].sum(axis='rows', numeric_only=True)\n",
    "num_picked = df[col_list].astype(bool).sum(axis='rows')"
   ]
  },
  {
   "cell_type": "code",
   "execution_count": null,
   "id": "fdcbe029",
   "metadata": {},
   "outputs": [],
   "source": [
    "df.loc[\"avg_num_used\"] = {}\n",
    "df.loc[\"pick_rate\"] = {}\n",
    "avg_num_used = num_used / num_picked\n",
    "pick_rate = num_picked / num_decks\n",
    "for col in col_list:\n",
    "    df.loc[\"avg_num_used\", col] = avg_num_used[col]\n",
    "    df.loc[\"pick_rate\", col] = pick_rate[col]"
   ]
  },
  {
   "cell_type": "code",
   "execution_count": null,
   "id": "6aae761d",
   "metadata": {},
   "outputs": [],
   "source": [
    "num_rows = df.shape[0]\n",
    "target_rows = [num_rows-1, num_rows-2]\n",
    "idx = target_rows + [i for i in range(len(df)) if i not in target_rows]\n",
    "df = df.iloc[idx]"
   ]
  },
  {
   "cell_type": "code",
   "execution_count": null,
   "id": "cfe0e9f5",
   "metadata": {},
   "outputs": [],
   "source": [
    "df"
   ]
  },
  {
   "cell_type": "code",
   "execution_count": null,
   "id": "41a690c0",
   "metadata": {},
   "outputs": [],
   "source": [
    "pick_rate"
   ]
  },
  {
   "cell_type": "code",
   "execution_count": null,
   "id": "69c2b1c4",
   "metadata": {},
   "outputs": [],
   "source": []
  },
  {
   "cell_type": "code",
   "execution_count": null,
   "id": "55f93895",
   "metadata": {},
   "outputs": [],
   "source": []
  }
 ],
 "metadata": {
  "kernelspec": {
   "display_name": "sandbox_crawler",
   "language": "python",
   "name": "sandbox_crawler"
  },
  "language_info": {
   "codemirror_mode": {
    "name": "ipython",
    "version": 3
   },
   "file_extension": ".py",
   "mimetype": "text/x-python",
   "name": "python",
   "nbconvert_exporter": "python",
   "pygments_lexer": "ipython3",
   "version": "3.7.13"
  }
 },
 "nbformat": 4,
 "nbformat_minor": 5
}
