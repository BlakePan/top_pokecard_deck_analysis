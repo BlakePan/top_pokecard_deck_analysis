{
 "cells": [
  {
   "cell_type": "code",
   "execution_count": null,
   "id": "4bbf4376",
   "metadata": {},
   "outputs": [],
   "source": [
    "from parse_deck import parse_deck"
   ]
  },
  {
   "cell_type": "code",
   "execution_count": null,
   "id": "6288838a",
   "metadata": {},
   "outputs": [],
   "source": [
    "from selenium import webdriver\n",
    "from selenium.webdriver.common.keys import Keys\n",
    "from selenium.webdriver.common.by import By\n",
    "from selenium.webdriver.support.ui import WebDriverWait\n",
    "from selenium.webdriver.support import expected_conditions as EC\n",
    "from selenium.webdriver.chrome.options import Options\n",
    "\n",
    "import time\n",
    "import re\n",
    "from tqdm import tqdm\n",
    "\n",
    "chrome_options = Options()\n",
    "chrome_options.add_argument(\"--headless\")\n",
    "chrome_options.add_argument(\"--start-maximized\")"
   ]
  },
  {
   "cell_type": "code",
   "execution_count": null,
   "id": "469bc642",
   "metadata": {},
   "outputs": [],
   "source": [
    "# parse CL event links from official website\n",
    "url = \"https://players.pokemon-card.com/event/result/list\"\n",
    "driver = webdriver.Chrome(options=chrome_options)\n",
    "driver.implicitly_wait(10) # seconds\n",
    "driver.get(url)\n",
    "events = driver.find_elements(By.CLASS_NAME, \"eventListItem\")\n",
    "\n",
    "# collect events for city league (シティリーグ)\n",
    "cl_events = []\n",
    "cl_event_links = []\n",
    "for event in tqdm(events):\n",
    "    title = event.find_element(By.CLASS_NAME, \"title\")\n",
    "    if \"シティリーグ\" in title.text:\n",
    "        no_people_str = event.find_element(By.CLASS_NAME, \"capacity\").text\n",
    "        cl_events.append(\n",
    "            {\n",
    "                \"link\": event.get_attribute(\"href\"),\n",
    "                \"no_people\": re.findall(r'\\d+', no_people_str),\n",
    "            }\n",
    "        )\n",
    "\n",
    "driver.close()"
   ]
  },
  {
   "cell_type": "code",
   "execution_count": null,
   "id": "57cf5518",
   "metadata": {},
   "outputs": [],
   "source": [
    "# update deck info from CL events\n",
    "# decks = {\n",
    "#     deck category 1: [\n",
    "#         {\n",
    "#             deck_code: \"\",\n",
    "#             pokemons: {},\n",
    "#             tools: {},\n",
    "#             supporters: {},\n",
    "#             stages: {},\n",
    "#             energies: {},\n",
    "#             rank: 1,\n",
    "#             no_people: 32,\n",
    "#             date: datetime\n",
    "#         }, ...\n",
    "#     ],\n",
    "#     deck category 2:...\n",
    "# }\n",
    "\n",
    "categories = [\"ルギアVSTAR\", \"ミュウVMAX\", \"ジュラルドンVMAX\", \"others\"]\n",
    "decks = {}\n",
    "for c in categories:\n",
    "    decks[c] = []\n",
    "\n",
    "#\n",
    "for cl_event in tqdm(cl_events):\n",
    "    cl_link = cl_event[\"link\"]\n",
    "    driver = webdriver.Chrome(options=chrome_options)\n",
    "    driver.implicitly_wait(10) # seconds\n",
    "    driver.get(cl_link)\n",
    "\n",
    "    date_str = driver.find_element(By.CLASS_NAME, \"date-day\").text\n",
    "    rows = driver.find_elements(By.CLASS_NAME, \"c-rankTable-row\")\n",
    "    for row in rows:\n",
    "        deck_link = row.find_element(By.CLASS_NAME, \"deck\").find_element(By.TAG_NAME, \"a\").get_property(\"href\")\n",
    "#         print(deck_link)\n",
    "        pokemon_dict, tool_dict, supporter_dict, stage_dict, energy_dict = parse_deck(deck_link = deck_link)\n",
    "\n",
    "        # identify this deck belongs to which category (TODO: need more rules)\n",
    "        category = \"others\"\n",
    "        for c in categories[:-1]:\n",
    "            if c in pokemon_dict.keys():\n",
    "                category = c\n",
    "\n",
    "        rank = row.find_element(By.TAG_NAME, \"td\").get_attribute(\"class\").split(\"-\")[-1]\n",
    "        decks[category].append(\n",
    "            {\n",
    "                \"deck_link\": deck_link,\n",
    "                \"pokemons\": pokemon_dict,\n",
    "                \"tools\": tool_dict,\n",
    "                \"supporters\": supporter_dict,\n",
    "                \"stages\": stage_dict,\n",
    "                \"energies\": energy_dict,\n",
    "                \"rank\": rank,\n",
    "                \"no_people\": cl_event[\"no_people\"][0],\n",
    "                \"date\": date_str\n",
    "            }\n",
    "        )"
   ]
  },
  {
   "cell_type": "code",
   "execution_count": null,
   "id": "f9f11678",
   "metadata": {},
   "outputs": [],
   "source": [
    "decks[\"others\"] "
   ]
  },
  {
   "cell_type": "code",
   "execution_count": null,
   "id": "419bef25",
   "metadata": {},
   "outputs": [],
   "source": [
    "deck_name = []\n",
    "for d in decks[\"others\"]:\n",
    "    lead = list(d[\"pokemons\"].keys())[0]\n",
    "    if lead not in deck_name:\n",
    "        deck_name.append(lead)\n",
    "        \n",
    "print(deck_name)\n"
   ]
  },
  {
   "cell_type": "code",
   "execution_count": null,
   "id": "8957287c",
   "metadata": {},
   "outputs": [],
   "source": [
    "for d in decks[\"others\"]:\n",
    "    lead = list(d[\"pokemons\"].keys())[0]\n",
    "    if lead == \"アルセウスV\":\n",
    "        print(d)\n",
    "        print(d[\"deck_link\"])\n",
    "        print(\"\\n---\\n\")"
   ]
  },
  {
   "cell_type": "code",
   "execution_count": null,
   "id": "16e42de6",
   "metadata": {},
   "outputs": [],
   "source": []
  }
 ],
 "metadata": {
  "kernelspec": {
   "display_name": "sandbox_crawler",
   "language": "python",
   "name": "sandbox_crawler"
  },
  "language_info": {
   "codemirror_mode": {
    "name": "ipython",
    "version": 3
   },
   "file_extension": ".py",
   "mimetype": "text/x-python",
   "name": "python",
   "nbconvert_exporter": "python",
   "pygments_lexer": "ipython3",
   "version": "3.7.13"
  }
 },
 "nbformat": 4,
 "nbformat_minor": 5
}
