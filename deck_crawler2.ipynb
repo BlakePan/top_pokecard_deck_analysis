{
 "cells": [
  {
   "cell_type": "code",
   "execution_count": 1,
   "id": "1488aa4f",
   "metadata": {},
   "outputs": [],
   "source": [
    "import time\n",
    "import re\n",
    "\n",
    "import pandas as pd\n",
    "from collections import OrderedDict\n",
    "\n",
    "import json\n",
    "import os\n",
    "\n",
    "pd.set_option('display.max_columns', None)\n",
    "pd.set_option('display.max_rows', None)\n",
    "pd.set_option('display.max_colwidth', None)"
   ]
  },
  {
   "cell_type": "code",
   "execution_count": 2,
   "metadata": {},
   "outputs": [],
   "source": [
    "# create some folders\n",
    "folders = [\"excel\", \"deck_db\", \"logs\"]\n",
    "for folder in folders:\n",
    "    if not os.path.exists(folder):\n",
    "        os.makedirs(folder)"
   ]
  },
  {
   "cell_type": "code",
   "execution_count": 3,
   "id": "e4100e9d",
   "metadata": {},
   "outputs": [],
   "source": [
    "from parse_deck import parse_events_from_official\n",
    "from parse_deck import reassign_category\n",
    "from deck_category_helper import find_category"
   ]
  },
  {
   "cell_type": "code",
   "execution_count": 4,
   "id": "058c32d0",
   "metadata": {},
   "outputs": [],
   "source": [
    "RUN_PARSE = True"
   ]
  },
  {
   "cell_type": "code",
   "execution_count": 5,
   "id": "09d575e6",
   "metadata": {},
   "outputs": [
    {
     "output_type": "stream",
     "name": "stdout",
     "text": [
      "dict_keys(['レジ', 'ルギアVSTAR', 'オリジンパルキアVSTAR', 'ムゲンダイナVMAX', 'LOST_ギラティナVSTAR', 'キュレムVMAX', 'Other_Lost', 'ルナトーン', 'ミュウVMAX', 'アル_ジュラルドン', 'アル_そらをとぶピカチュウ', 'others', 'レジエレキVMAX', 'LTB_空の封印石_水超闘雷', 'LTB_空の封印石_水超鋼雷', 'LTB_空の封印石_水草超鋼闘雷', 'LTB_空の封印石_水超雷', 'LTB_空の封印石_水超鋼', 'LTB_空の封印石_超鋼雷', 'アルセウス裏工作', 'LTB_カイオーガ', 'ハピナスV', 'LTB', 'ヒスイ ゾロアークVSTAR', 'ヒスイ ダイケンキVSTAR', 'ロトムVSTAR', 'ゾロア', 'プテラVSTAR', 'ガラル マタドガス', 'LTB_ヤミラミ_リザードン', 'Other_ギラティナVSTAR', 'アル_レジドラゴVSTAR', 'ミュウツーV-UNION', 'LTB_空の封印石_other', 'レジドラゴVSTAR', 'オリジンディアルガVSTAR', 'こくばバドレックスVMAX', 'ゾロア_ウインディ', 'LTB_空の封印石_水超鋼闘雷', 'LTB_空の封印石_草超闘雷', 'LTB_空の封印石_草超鋼雷', 'LTB_空の封印石_草超鋼闘雷', 'LTB_空の封印石_水草超鋼雷'])\n"
     ]
    }
   ],
   "source": [
    "# decks = {\n",
    "#     deck category 1: [\n",
    "#         {\n",
    "#             deck_link: \"\",\n",
    "#             deck_code: \"\",\n",
    "#             pokemons: {},\n",
    "#             tools: {},\n",
    "#             supporters: {},\n",
    "#             stadiums: {},\n",
    "#             energies: {},\n",
    "#             rank: 1,\n",
    "#             num_people: 32,\n",
    "#             date: datetime\n",
    "#         }, ...\n",
    "#     ],\n",
    "#     deck category 2:...\n",
    "# }\n",
    "\n",
    "decks = {}\n",
    "store_file_name = 'deck_db/store.json'\n",
    "if os.path.exists(store_file_name):\n",
    "    with open(store_file_name, 'r') as f:\n",
    "        decks = json.load(f)\n",
    "        \n",
    "decks = reassign_category(decks)\n",
    "print(decks.keys())\n",
    "\n",
    "store_code_list = []\n",
    "for category in decks.keys():\n",
    "    for d in decks[category]:\n",
    "        store_code_list.append(d[\"deck_code\"])"
   ]
  },
  {
   "cell_type": "code",
   "execution_count": 6,
   "id": "aca361c2",
   "metadata": {},
   "outputs": [
    {
     "output_type": "execute_result",
     "data": {
      "text/plain": [
       "1532"
      ]
     },
     "metadata": {},
     "execution_count": 6
    }
   ],
   "source": [
    "len(store_code_list)"
   ]
  },
  {
   "cell_type": "code",
   "execution_count": null,
   "id": "c2f9b910",
   "metadata": {},
   "outputs": [],
   "source": [
    "# parse events\n",
    "t1 = time.time()\n",
    "if RUN_PARSE:\n",
    "    parse_events_from_official(decks, store_code_list, result_page_limit=10, deck_page_limit=2)\n",
    "t2 = time.time()\n",
    "\n",
    "print()\n",
    "print(t2 - t1)"
   ]
  },
  {
   "cell_type": "code",
   "execution_count": null,
   "metadata": {},
   "outputs": [],
   "source": [
    "# save to json\n",
    "with open(store_file_name, 'w') as f:\n",
    "    json.dump(decks, f, ensure_ascii=False, indent=4)"
   ]
  },
  {
   "cell_type": "code",
   "execution_count": null,
   "id": "a2bcd783",
   "metadata": {},
   "outputs": [],
   "source": [
    "total = 0\n",
    "# show all categories we have\n",
    "for k in decks.keys():\n",
    "    print(f\"[{k}]:\\n{len(decks[k])}\\n\")\n",
    "    total += len(decks[k])\n",
    "\n",
    "print(total)"
   ]
  },
  {
   "cell_type": "code",
   "execution_count": null,
   "id": "b91627db",
   "metadata": {},
   "outputs": [],
   "source": [
    "start_date = \"2022年12月02日\"  # include\n",
    "end_date = \"2022年12月25日\"  # include"
   ]
  },
  {
   "cell_type": "code",
   "execution_count": null,
   "id": "1bbffcef",
   "metadata": {},
   "outputs": [],
   "source": [
    "# show categories we have in the period\n",
    "for k in decks.keys():\n",
    "    deck_cnt = 0\n",
    "    for deck in decks[k]:\n",
    "        if deck[\"date\"] >= start_date and deck[\"date\"] <= end_date:\n",
    "            deck_cnt += 1\n",
    "\n",
    "    print(f\"{k}\\t{deck_cnt}\\n\")"
   ]
  },
  {
   "cell_type": "code",
   "execution_count": null,
   "id": "64508eff",
   "metadata": {},
   "outputs": [],
   "source": [
    "target_category = \"アル_レジドラゴVSTAR\"\n",
    "df_list = []\n",
    "common_cols = [\"date\", \"num_people\", \"rank\"]\n",
    "\n",
    "for card_type in [\"pokemons\", \"tools\", \"supporters\", \"stadiums\", \"energies\"]:\n",
    "    # df init\n",
    "    df = pd.DataFrame()\n",
    "    for _, deck in enumerate(decks[target_category]):\n",
    "        deck_link = deck[\"deck_link\"]  # row id\n",
    "        if deck[\"date\"] < start_date or deck[\"date\"] > end_date:\n",
    "            continue\n",
    "        pokecard = OrderedDict()\n",
    "        pokecard[\"date\"] = deck[\"date\"]\n",
    "        pokecard[\"num_people\"] = deck[\"num_people\"]\n",
    "        pokecard[\"rank\"] = deck[\"rank\"]\n",
    "        pokecard.update(deck[card_type])\n",
    "        if _ == 0:\n",
    "            df = pd.DataFrame(pokecard, index=[deck_link])\n",
    "        else:\n",
    "            df = pd.concat([df, pd.DataFrame(pokecard, index=[deck_link])])\n",
    "    df = df.fillna(0)\n",
    "    \n",
    "    # sort rows by date\n",
    "    df = df.sort_values(by=['date'], ascending=False)\n",
    "\n",
    "    # select cols for analysis\n",
    "    col_list = list(df)\n",
    "    for c in common_cols: col_list.remove(c)\n",
    "\n",
    "    # calculate\n",
    "    num_decks = df.shape[0]\n",
    "    num_used = df[col_list].sum(axis='rows', numeric_only=True)\n",
    "    num_picked = df[col_list].astype(bool).sum(axis='rows')\n",
    "    avg_num_used = num_used / num_picked\n",
    "    pick_rate = num_picked / num_decks\n",
    "    \n",
    "    # insert rows in df\n",
    "    df.loc[\"avg_num_used\"] = {}\n",
    "    df.loc[\"pick_rate\"] = {}\n",
    "    for col in col_list:\n",
    "        df.loc[\"avg_num_used\", col] = avg_num_used[col]\n",
    "        df.loc[\"pick_rate\", col] = pick_rate[col]\n",
    "\n",
    "    # reorder index in df, move 'avg_num_used' and 'pick_rate' to top\n",
    "    num_rows = df.shape[0]\n",
    "    target_rows = [num_rows-1, num_rows-2]\n",
    "    idx = target_rows + [i for i in range(len(df)) if i not in target_rows]\n",
    "    df = df.iloc[idx]\n",
    "    \n",
    "    # sort cols by pick rate\n",
    "    df = df.sort_values('pick_rate', axis=1, ascending=False)\n",
    "    col_list = list(df)\n",
    "    for c in common_cols: col_list.remove(c)\n",
    "    df = df[common_cols + col_list]\n",
    "    \n",
    "    # store\n",
    "    df_list.append(df)"
   ]
  },
  {
   "cell_type": "code",
   "execution_count": null,
   "id": "70e9aa60",
   "metadata": {},
   "outputs": [],
   "source": [
    "# number of decks for the target category\n",
    "len(df_list[0]) - 2"
   ]
  },
  {
   "cell_type": "code",
   "execution_count": null,
   "id": "00a063c8",
   "metadata": {},
   "outputs": [],
   "source": [
    "# prepare folder\n",
    "excel_folder = f\"./excel/{target_category}\"\n",
    "if not os.path.exists(excel_folder):\n",
    "    os.makedirs(excel_folder)"
   ]
  },
  {
   "cell_type": "code",
   "execution_count": null,
   "metadata": {},
   "outputs": [],
   "source": [
    "# excel writer\n",
    "writer = pd.ExcelWriter(f\"{excel_folder}/{target_category}-{start_date}-{end_date}.xlsx\", engine='xlsxwriter')\n",
    "df_list[0].to_excel(writer, sheet_name='pokemons')\n",
    "df_list[1].to_excel(writer, sheet_name='tools')\n",
    "df_list[2].to_excel(writer, sheet_name='supporters')\n",
    "df_list[3].to_excel(writer, sheet_name='stadiums')\n",
    "df_list[4].to_excel(writer, sheet_name='energies')\n",
    "writer.save()"
   ]
  },
  {
   "cell_type": "code",
   "execution_count": null,
   "id": "22f6523b",
   "metadata": {},
   "outputs": [],
   "source": [
    "df_list[0]"
   ]
  },
  {
   "cell_type": "code",
   "execution_count": null,
   "id": "b96487d6",
   "metadata": {
    "scrolled": false
   },
   "outputs": [],
   "source": [
    "df_list[1]"
   ]
  },
  {
   "cell_type": "code",
   "execution_count": null,
   "id": "a9bfd4da",
   "metadata": {},
   "outputs": [],
   "source": [
    "df_list[2]"
   ]
  },
  {
   "cell_type": "code",
   "execution_count": null,
   "id": "4e9d2726",
   "metadata": {},
   "outputs": [],
   "source": [
    "df_list[3]"
   ]
  },
  {
   "cell_type": "code",
   "execution_count": null,
   "id": "c0a0c106",
   "metadata": {},
   "outputs": [],
   "source": [
    "df_list[4]"
   ]
  },
  {
   "cell_type": "code",
   "execution_count": null,
   "id": "64bfe50a",
   "metadata": {},
   "outputs": [],
   "source": [
    "decks[\"others\"]"
   ]
  },
  {
   "cell_type": "code",
   "execution_count": null,
   "id": "59c10c9f",
   "metadata": {},
   "outputs": [],
   "source": [
    "len(decks[\"others\"])"
   ]
  }
 ],
 "metadata": {
  "kernelspec": {
   "name": "python3",
   "display_name": "Python 3.7.13 64-bit ('sandbox_crawler': conda)",
   "metadata": {
    "interpreter": {
     "hash": "eed5a36f612b2b33e54cc2b665ffd522aefc235d5c6aed7cc261d6c5c4ae5484"
    }
   }
  },
  "language_info": {
   "codemirror_mode": {
    "name": "ipython",
    "version": 3
   },
   "file_extension": ".py",
   "mimetype": "text/x-python",
   "name": "python",
   "nbconvert_exporter": "python",
   "pygments_lexer": "ipython3",
   "version": "3.7.13-final"
  }
 },
 "nbformat": 4,
 "nbformat_minor": 5
}