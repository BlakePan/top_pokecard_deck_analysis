{
 "cells": [
  {
   "cell_type": "code",
   "execution_count": 2,
   "id": "259f0992",
   "metadata": {},
   "outputs": [],
   "source": [
    "from parse_deck import parse_deck"
   ]
  },
  {
   "cell_type": "code",
   "execution_count": 3,
   "id": "9055247a",
   "metadata": {},
   "outputs": [],
   "source": [
    "from selenium import webdriver\n",
    "from selenium.webdriver.common.keys import Keys\n",
    "from selenium.webdriver.common.by import By"
   ]
  },
  {
   "cell_type": "code",
   "execution_count": 7,
   "id": "b64a41bf",
   "metadata": {},
   "outputs": [
    {
     "name": "stdout",
     "output_type": "stream",
     "text": [
      "[<selenium.webdriver.remote.webelement.WebElement (session=\"27b13ce30260944286af1561490867e6\", element=\"35a3588f-ac8b-49b0-8da2-64ac89a9dd0b\")>, <selenium.webdriver.remote.webelement.WebElement (session=\"27b13ce30260944286af1561490867e6\", element=\"ac49c152-64c3-42af-9ef5-9f9a4c20b659\")>, <selenium.webdriver.remote.webelement.WebElement (session=\"27b13ce30260944286af1561490867e6\", element=\"04468183-27ab-443f-af8b-5f03bdab90af\")>, <selenium.webdriver.remote.webelement.WebElement (session=\"27b13ce30260944286af1561490867e6\", element=\"851a8ff3-82fd-4c93-8fb2-d43ec0f62f13\")>, <selenium.webdriver.remote.webelement.WebElement (session=\"27b13ce30260944286af1561490867e6\", element=\"19c20e86-fbe1-43fd-a109-9545c8492390\")>, <selenium.webdriver.remote.webelement.WebElement (session=\"27b13ce30260944286af1561490867e6\", element=\"7822266e-89a2-4932-8273-9a8e93260ba9\")>, <selenium.webdriver.remote.webelement.WebElement (session=\"27b13ce30260944286af1561490867e6\", element=\"c1e35e86-311a-4435-96f3-bc739417d360\")>, <selenium.webdriver.remote.webelement.WebElement (session=\"27b13ce30260944286af1561490867e6\", element=\"5bbebbcd-539a-47c5-9df9-42e94f51f7cb\")>, <selenium.webdriver.remote.webelement.WebElement (session=\"27b13ce30260944286af1561490867e6\", element=\"36420fcd-4677-4abd-87b8-6f5b79568abd\")>]\n",
      "9\n"
     ]
    }
   ],
   "source": [
    "# parse articles from blog\n",
    "blog_url = \"https://www.houhou-news.com/\"\n",
    "driver = webdriver.Chrome()\n",
    "driver.get(blog_url)\n",
    "\n",
    "articles = driver.find_elements(By.CLASS_NAME, \"entry-card-wrap.a-wrap.border-element.cf\")\n",
    "driver.close()\n",
    "\n",
    "print(articles)\n",
    "print(len(articles))\n"
   ]
  },
  {
   "cell_type": "code",
   "execution_count": null,
   "id": "7fde287a",
   "metadata": {},
   "outputs": [],
   "source": [
    "# update deck info from articles\n",
    "# decks = [\n",
    "#     deck category 1: [\n",
    "#         {\n",
    "#             deck_code: \"\",\n",
    "#         }, ...\n",
    "#     ],\n",
    "#     deck category 2:...\n",
    "# ]"
   ]
  },
  {
   "cell_type": "code",
   "execution_count": null,
   "id": "6bb4315a",
   "metadata": {},
   "outputs": [],
   "source": [
    "# update deck info by code\n",
    "    \n",
    "# decks = [\n",
    "#     deck category 1: [\n",
    "#         {\n",
    "#             deck_code: \"\",\n",
    "#             pekomons: {},\n",
    "#             tools: {},\n",
    "#             supporters: {},\n",
    "#             stages: {},\n",
    "#             energies: {},\n",
    "#             rank: 1,\n",
    "#             no_people: 32,\n",
    "#             date: datetime\n",
    "#         }, ...\n",
    "#     ],\n",
    "#     deck category 2:...\n",
    "# ]"
   ]
  },
  {
   "cell_type": "code",
   "execution_count": null,
   "id": "b43b6da3",
   "metadata": {},
   "outputs": [],
   "source": []
  }
 ],
 "metadata": {
  "kernelspec": {
   "display_name": "sandbox_crawler",
   "language": "python",
   "name": "sandbox_crawler"
  },
  "language_info": {
   "codemirror_mode": {
    "name": "ipython",
    "version": 3
   },
   "file_extension": ".py",
   "mimetype": "text/x-python",
   "name": "python",
   "nbconvert_exporter": "python",
   "pygments_lexer": "ipython3",
   "version": "3.7.13"
  }
 },
 "nbformat": 4,
 "nbformat_minor": 5
}
