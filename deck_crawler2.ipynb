{
 "cells": [
  {
   "cell_type": "code",
   "execution_count": 2,
   "id": "a0e3a7da",
   "metadata": {},
   "outputs": [],
   "source": [
    "from parse_deck import parse_deck"
   ]
  },
  {
   "cell_type": "code",
   "execution_count": null,
   "id": "d2b8f853",
   "metadata": {},
   "outputs": [],
   "source": [
    "# parse from blog\n",
    "\n",
    "decks = []\n",
    "\n",
    "# decks = [\n",
    "#     deck category 1: [\n",
    "#         {\n",
    "#             deck_code: \"\",\n",
    "#         }, ...\n",
    "#     ],\n",
    "#     deck category 2:...\n",
    "# ]"
   ]
  },
  {
   "cell_type": "code",
   "execution_count": null,
   "id": "fd1c7ffe",
   "metadata": {},
   "outputs": [],
   "source": [
    "# update deck info\n",
    "    \n",
    "# decks = [\n",
    "#     deck category 1: [\n",
    "#         {\n",
    "#             deck_code: \"\",\n",
    "#             pekomons: {},\n",
    "#             tools: {},\n",
    "#             supporters: {},\n",
    "#             stages: {},\n",
    "#             energies: {},\n",
    "#             rank: 1,\n",
    "#             no_people: 32,\n",
    "#             date: datetime\n",
    "#         }, ...\n",
    "#     ],\n",
    "#     deck category 2:...\n",
    "# ]"
   ]
  }
 ],
 "metadata": {
  "kernelspec": {
   "display_name": "sandbox_crawler",
   "language": "python",
   "name": "sandbox_crawler"
  },
  "language_info": {
   "codemirror_mode": {
    "name": "ipython",
    "version": 3
   },
   "file_extension": ".py",
   "mimetype": "text/x-python",
   "name": "python",
   "nbconvert_exporter": "python",
   "pygments_lexer": "ipython3",
   "version": "3.7.13"
  }
 },
 "nbformat": 4,
 "nbformat_minor": 5
}
